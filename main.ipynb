{
 "cells": [
  {
   "cell_type": "markdown",
   "metadata": {},
   "source": [
    "# Datasheet Analyzer Setup\n",
    "\n",
    "이 노트북은 Datasheet Analyzer를 Google Colab에서 실행하기 위한 설정을 제공합니다."
   ]
  },
  {
   "cell_type": "code",
   "execution_count": null,
   "metadata": {
    "vscode": {
     "languageId": "plaintext"
    }
   },
   "outputs": [],
   "source": [
    "# GPU 사용 가능 여부 확인\n",
    "!nvidia-smi\n",
    "\n",
    "# PyTorch가 GPU를 인식하는지 확인\n",
    "import torch\n",
    "print(f\"PyTorch 버전: {torch.__version__}\")\n",
    "print(f\"CUDA 사용 가능: {torch.cuda.is_available()}\")\n",
    "if torch.cuda.is_available():\n",
    "    print(f\"현재 사용 중인 GPU: {torch.cuda.get_device_name(0)}\")\n",
    "    print(f\"GPU 메모리 사용량: {torch.cuda.memory_allocated(0) / 1024**2:.2f} MB\")"
   ]
  },
  {
   "cell_type": "code",
   "execution_count": null,
   "metadata": {
    "vscode": {
     "languageId": "plaintext"
    }
   },
   "outputs": [],
   "source": [
    "# Clone the repository\n",
    "!git clone https://github.com/doyoung42/autodatasheet.git\n",
    "%cd autodatasheet"
   ]
  },
  {
   "cell_type": "code",
   "execution_count": null,
   "metadata": {
    "vscode": {
     "languageId": "plaintext"
    }
   },
   "outputs": [],
   "source": [
    "# Install dependencies\n",
    "!pip install -r requirements.txt\n",
    "\n",
    "# Install additional dependencies for Google Colab\n",
    "!pip install streamlit-option-menu"
   ]
  },
  {
   "cell_type": "code",
   "execution_count": null,
   "metadata": {
    "vscode": {
     "languageId": "plaintext"
    }
   },
   "outputs": [],
   "source": [
    "# Python 패키지 경로 설정\n",
    "import sys\n",
    "import os\n",
    "sys.path.append(os.getcwd())\n",
    "\n",
    "# 로깅 설정\n",
    "import logging\n",
    "logging.basicConfig(\n",
    "    level=logging.INFO,\n",
    "    format='%(asctime)s - %(name)s - %(levelname)s - %(message)s'\n",
    ")\n",
    "logger = logging.getLogger(__name__)\n",
    "\n",
    "# Streamlit 실행\n",
    "import subprocess\n",
    "import threading\n",
    "import time\n",
    "\n",
    "def run_streamlit():\n",
    "    try:\n",
    "        logger.info(\"Starting Streamlit server...\")\n",
    "        subprocess.run([\n",
    "            \"streamlit\", \"run\",\n",
    "            \"src/app/streamlit_app.py\",\n",
    "            \"--server.port=8501\",\n",
    "            \"--server.address=0.0.0.0\",\n",
    "            \"--browser.serverAddress=0.0.0.0\",\n",
    "            \"--server.headless=true\"\n",
    "        ])\n",
    "    except Exception as e:\n",
    "        logger.error(f\"Error running Streamlit: {str(e)}\")\n",
    "\n",
    "# 백그라운드에서 Streamlit 실행\n",
    "thread = threading.Thread(target=run_streamlit)\n",
    "thread.daemon = True\n",
    "thread.start()\n",
    "\n",
    "# 서버 시작 대기\n",
    "time.sleep(5)\n",
    "\n",
    "# 포트 포워딩\n",
    "from google.colab.output import eval_js\n",
    "print(\"Streamlit URL:\")\n",
    "print(eval_js(\"google.colab.kernel.proxyPort(8501)\"))"
   ]
  },
  {
   "cell_type": "code",
   "execution_count": null,
   "metadata": {
    "vscode": {
     "languageId": "plaintext"
    }
   },
   "outputs": [],
   "source": [
    "# Streamlit 로그 확인을 위한 셀\n",
    "import time\n",
    "import subprocess\n",
    "\n",
    "def check_streamlit_logs():\n",
    "    \"\"\"Streamlit 로그를 확인하는 함수\"\"\"\n",
    "    try:\n",
    "        # 먼저 로그 파일이 있는지 확인\n",
    "        result = subprocess.run(['find', '/', '-name', 'streamlit.log', '2>/dev/null'], \n",
    "                              capture_output=True, text=True)\n",
    "        \n",
    "        if result.stdout.strip():\n",
    "            log_path = result.stdout.strip().split('\\n')[0]\n",
    "            print(f\"로그 파일을 찾았습니다: {log_path}\")\n",
    "            # 로그 파일 실시간 모니터링\n",
    "            subprocess.run(['tail', '-f', log_path])\n",
    "        else:\n",
    "            print(\"streamlit.log 파일을 찾을 수 없습니다.\")\n",
    "            print(\"현재 실행 중인 Streamlit 프로세스 확인:\")\n",
    "            subprocess.run(['ps', 'aux', '|', 'grep', 'streamlit'])\n",
    "            \n",
    "            print(\"\\n현재 디렉토리의 로그 파일 확인:\")\n",
    "            subprocess.run(['ls', '-la', '*.log'])\n",
    "            \n",
    "            print(\"\\n/tmp 디렉토리의 로그 파일 확인:\")\n",
    "            subprocess.run(['ls', '-la', '/tmp/*.log'])\n",
    "    except Exception as e:\n",
    "        print(f\"로그 확인 중 오류 발생: {str(e)}\")\n",
    "\n",
    "# 로그 확인 시작\n",
    "print(\"Streamlit 로그 확인을 시작합니다...\")\n",
    "check_streamlit_logs()"
   ]
  }
 ],
 "metadata": {
  "language_info": {
   "name": "python"
  }
 },
 "nbformat": 4,
 "nbformat_minor": 2
}
