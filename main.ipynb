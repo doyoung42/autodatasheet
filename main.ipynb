{
 "cells": [
  {
   "cell_type": "markdown",
   "metadata": {},
   "source": [
    "# Datasheet Analyzer Setup\n",
    "\n",
    "이 노트북은 Datasheet Analyzer를 Google Colab에서 실행하기 위한 설정을 제공합니다."
   ]
  },
  {
   "cell_type": "code",
   "execution_count": null,
   "metadata": {
    "vscode": {
     "languageId": "plaintext"
    }
   },
   "outputs": [],
   "source": [
    "# GPU 사용 가능 여부 확인\n",
    "!nvidia-smi\n",
    "\n",
    "# PyTorch가 GPU를 인식하는지 확인\n",
    "import torch\n",
    "print(f\"PyTorch 버전: {torch.__version__}\")\n",
    "print(f\"CUDA 사용 가능: {torch.cuda.is_available()}\")\n",
    "if torch.cuda.is_available():\n",
    "    print(f\"현재 사용 중인 GPU: {torch.cuda.get_device_name(0)}\")\n",
    "    print(f\"GPU 메모리 사용량: {torch.cuda.memory_allocated(0) / 1024**2:.2f} MB\")"
   ]
  },
  {
   "cell_type": "code",
   "execution_count": null,
   "metadata": {
    "vscode": {
     "languageId": "plaintext"
    }
   },
   "outputs": [],
   "source": [
    "# Clone the repository\n",
    "!git clone https://github.com/doyoung42/autodatasheet.git\n",
    "%cd autodatasheet"
   ]
  },
  {
   "cell_type": "code",
   "execution_count": null,
   "metadata": {
    "vscode": {
     "languageId": "plaintext"
    }
   },
   "outputs": [],
   "source": [
    "# Install dependencies\n",
    "!pip install -r requirements.txt\n",
    "\n",
    "# Install additional dependencies for Google Colab\n",
    "!pip install streamlit-option-menu"
   ]
  },
  {
   "cell_type": "code",
   "execution_count": null,
   "metadata": {
    "vscode": {
     "languageId": "plaintext"
    }
   },
   "outputs": [],
   "source": [
    "# Python 패키지 경로 설정\n",
    "import sys\n",
    "import os\n",
    "from pathlib import Path\n",
    "\n",
    "# 현재 작업 디렉토리를 Python 경로에 추가\n",
    "current_dir = Path(os.getcwd())\n",
    "sys.path.append(str(current_dir))\n",
    "sys.path.append(str(current_dir / 'src'))\n",
    "\n",
    "# src 디렉토리를 Python 경로에 추가\n",
    "src_dir = current_dir / 'src'\n",
    "if src_dir.exists():\n",
    "    sys.path.append(str(src_dir))\n",
    "    # config, models, utils 디렉토리도 추가\n",
    "    for subdir in ['config', 'models', 'utils']:\n",
    "        subdir_path = src_dir / subdir\n",
    "        if subdir_path.exists():\n",
    "            sys.path.append(str(subdir_path))\n",
    "\n",
    "print(\"Python 경로:\")\n",
    "for path in sys.path:\n",
    "    print(f\"- {path}\")\n",
    "\n",
    "# 토큰 설정\n",
    "from config.token_manager import TokenManager\n",
    "from getpass import getpass\n",
    "\n",
    "token_manager = TokenManager()\n",
    "\n",
    "# OpenAI API 토큰 설정\n",
    "openai_token = getpass('OpenAI API 토큰을 입력하세요: ')\n",
    "if openai_token:\n",
    "    token_manager.set_token('openai', openai_token)\n",
    "    print('OpenAI API 토큰이 저장되었습니다.')\n",
    "\n",
    "# HuggingFace API 토큰 설정\n",
    "hf_token = getpass('HuggingFace API 토큰을 입력하세요: ')\n",
    "if hf_token:\n",
    "    token_manager.set_token('huggingface', hf_token)\n",
    "    print('HuggingFace API 토큰이 저장되었습니다.')\n",
    "\n",
    "# Anthropic API 토큰 설정\n",
    "anthropic_token = getpass('Anthropic API 토큰을 입력하세요: ')\n",
    "if anthropic_token:\n",
    "    token_manager.set_token('anthropic', anthropic_token)\n",
    "    print('Anthropic API 토큰이 저장되었습니다.')"
   ]
  },
  {
   "cell_type": "code",
   "execution_count": null,
   "metadata": {
    "vscode": {
     "languageId": "plaintext"
    }
   },
   "outputs": [],
   "source": [
    "# Python 패키지 경로 설정\n",
    "import sys\n",
    "import os\n",
    "from pathlib import Path\n",
    "\n",
    "# 현재 작업 디렉토리를 Python 경로에 추가\n",
    "current_dir = Path(os.getcwd())\n",
    "sys.path.append(str(current_dir))\n",
    "sys.path.append(str(current_dir / 'src'))\n",
    "\n",
    "# src 디렉토리를 Python 경로에 추가\n",
    "src_dir = current_dir / 'src'\n",
    "if src_dir.exists():\n",
    "    sys.path.append(str(src_dir))\n",
    "    # config, models, utils 디렉토리도 추가\n",
    "    for subdir in ['config', 'models', 'utils']:\n",
    "        subdir_path = src_dir / subdir\n",
    "        if subdir_path.exists():\n",
    "            sys.path.append(str(subdir_path))\n",
    "\n",
    "print(\"Python 경로:\")\n",
    "for path in sys.path:\n",
    "    print(f\"- {path}\")\n",
    "\n",
    "\n",
    "# 로깅 설정\n",
    "import logging\n",
    "import os\n",
    "import sys\n",
    "from pathlib import Path\n",
    "\n",
    "# 로그 디렉토리 생성\n",
    "log_dir = Path('/tmp/streamlit_logs')\n",
    "log_dir.mkdir(exist_ok=True, parents=True)\n",
    "log_file = log_dir / 'streamlit.log'\n",
    "\n",
    "# 로깅 설정\n",
    "logging.basicConfig(\n",
    "    level=logging.DEBUG,\n",
    "    format='%(asctime)s - %(name)s - %(levelname)s - %(message)s',\n",
    "    handlers=[\n",
    "        logging.StreamHandler(),\n",
    "        logging.FileHandler(log_file)\n",
    "    ]\n",
    ")\n",
    "logger = logging.getLogger(__name__)\n",
    "\n",
    "# Streamlit 실행\n",
    "import subprocess\n",
    "import threading\n",
    "import time\n",
    "import traceback\n",
    "\n",
    "def run_streamlit():\n",
    "    try:\n",
    "        logger.info(\"Starting Streamlit server...\")\n",
    "        # 환경 변수 설정\n",
    "        env = os.environ.copy()\n",
    "        env['STREAMLIT_SERVER_HEADLESS'] = 'true'\n",
    "        env['STREAMLIT_SERVER_PORT'] = '8501'\n",
    "        env['STREAMLIT_SERVER_ADDRESS'] = '0.0.0.0'\n",
    "        env['STREAMLIT_BROWSER_SERVER_ADDRESS'] = '0.0.0.0'\n",
    "        env['STREAMLIT_LOGGER_LEVEL'] = 'debug'\n",
    "        env['STREAMLIT_SERVER_MAX_UPLOAD_SIZE'] = '200'\n",
    "        env['STREAMLIT_SERVER_ENABLE_CORS'] = 'false'\n",
    "        env['STREAMLIT_SERVER_ENABLE_XSRF_PROTECTION'] = 'false'\n",
    "        \n",
    "        # Python 경로 설정\n",
    "        current_dir = Path(os.getcwd())\n",
    "        python_path = f\"{current_dir}:{current_dir}/src\"\n",
    "        env['PYTHONPATH'] = python_path\n",
    "        \n",
    "        # Streamlit 실행\n",
    "        process = subprocess.Popen([\n",
    "            \"streamlit\", \"run\",\n",
    "            \"src/app/streamlit_app.py\",\n",
    "            \"--server.port=8501\",\n",
    "            \"--server.address=0.0.0.0\",\n",
    "            \"--browser.serverAddress=0.0.0.0\",\n",
    "            \"--server.maxUploadSize=200\",\n",
    "            \"--server.enableCORS=false\",\n",
    "            \"--server.enableXsrfProtection=false\"\n",
    "        ], env=env, stdout=subprocess.PIPE, stderr=subprocess.PIPE)        \n",
    "        \n",
    "        # 로그 출력\n",
    "        while True:\n",
    "            output = process.stdout.readline()\n",
    "            if output:\n",
    "                print(output.decode().strip())\n",
    "            error = process.stderr.readline()\n",
    "            if error:\n",
    "                print(error.decode().strip())\n",
    "            if process.poll() is not None:\n",
    "                break\n",
    "                \n",
    "    except Exception as e:\n",
    "        logger.error(f\"Error running Streamlit: {str(e)}\")\n",
    "        print(traceback.format_exc())\n",
    "\n",
    "# 백그라운드에서 Streamlit 실행\n",
    "thread = threading.Thread(target=run_streamlit)\n",
    "thread.daemon = True\n",
    "thread.start()\n",
    "\n",
    "# 서버 시작 대기\n",
    "time.sleep(10)  # 대기 시간을 10초로 증가\n",
    "\n",
    "# 포트 포워딩\n",
    "from google.colab.output import eval_js\n",
    "print(\"Streamlit URL:\")\n",
    "print(eval_js(\"google.colab.kernel.proxyPort(8501)\"))"
   ]
  },
  {
   "cell_type": "code",
   "execution_count": null,
   "metadata": {
    "vscode": {
     "languageId": "plaintext"
    }
   },
   "outputs": [],
   "source": [
    "# 서버 상태 확인\n",
    "!ps aux | grep streamlit\n",
    "!netstat -tulpn | grep 8501"
   ]
  },
  {
   "cell_type": "code",
   "execution_count": null,
   "metadata": {
    "vscode": {
     "languageId": "plaintext"
    }
   },
   "outputs": [],
   "source": [
    "# Streamlit 로그 확인\n",
    "import time\n",
    "from pathlib import Path\n",
    "\n",
    "def check_streamlit_logs():\n",
    "    \"\"\"Streamlit 로그를 확인하는 함수\"\"\"\n",
    "    try:\n",
    "        log_file = Path('/tmp/streamlit_logs/streamlit.log')\n",
    "        \n",
    "        if log_file.exists():\n",
    "            print(f\"로그 파일을 찾았습니다: {log_file}\")\n",
    "            # 로그 파일 실시간 모니터링\n",
    "            with open(log_file, 'r') as f:\n",
    "                # 파일 끝으로 이동\n",
    "                f.seek(0, 2)\n",
    "                while True:\n",
    "                    line = f.readline()\n",
    "                    if line:\n",
    "                        print(line.strip())\n",
    "                    time.sleep(0.1)\n",
    "        else:\n",
    "            print(f\"로그 파일을 찾을 수 없습니다: {log_file}\")\n",
    "            print(\"\\n현재 실행 중인 Streamlit 프로세스 확인:\")\n",
    "            !ps aux | grep streamlit\n",
    "            \n",
    "            print(\"\\n/tmp/streamlit_logs 디렉토리 확인:\")\n",
    "            !ls -la /tmp/streamlit_logs\n",
    "            \n",
    "            print(\"\\n현재 디렉토리 확인:\")\n",
    "            !pwd\n",
    "            !ls -la\n",
    "    except Exception as e:\n",
    "        print(f\"로그 확인 중 오류 발생: {str(e)}\")\n",
    "        import traceback\n",
    "        print(traceback.format_exc())\n",
    "\n",
    "# 로그 확인 시작\n",
    "print(\"Streamlit 로그 확인을 시작합니다...\")\n",
    "check_streamlit_logs()"
   ]
  }
 ],
 "metadata": {
  "language_info": {
   "name": "python"
  }
 },
 "nbformat": 4,
 "nbformat_minor": 2
}
